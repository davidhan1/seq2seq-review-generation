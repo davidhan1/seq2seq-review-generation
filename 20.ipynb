{
 "cells": [
  {
   "cell_type": "code",
   "execution_count": 1,
   "metadata": {},
   "outputs": [],
   "source": [
    "from generator import *\n",
    "from models.attention import Seq2SeqAttn\n",
    "from models.rnn_only import Seq2SeqRNN\n",
    "import json\n",
    "from tqdm import tqdm\n",
    "\n",
    "# load data\n",
    "with open('data/selected_scored_essay.json', 'r', encoding='utf8') as f:\n",
    "    raw = json.load(f)\n",
    "device = torch.device('cuda') if torch.cuda.is_available() else torch.device('cpu')\n",
    "enc_char2id_path = 'ckpt/enc_char2id.json'\n",
    "dec_char2id_path = 'ckpt/dec_char2id.json'\n",
    "wordlib_path = 'data/WordLib.json'\n",
    "model_class = Seq2SeqRNN\n",
    "need_scr = True\n",
    "bidirectional = False\n",
    "# RNN\n",
    "model_path = 'ckpt/RNN.pt'\n",
    "rnn_type = 'RNN'\n",
    "rnn = Generator(enc_char2id_path, dec_char2id_path, model_path, wordlib_path, device, need_scr, model_class, bidirectional, rnn_type)\n",
    "# GRU\n",
    "model_path = 'ckpt/GRU.pt'\n",
    "rnn_type = 'GRU'\n",
    "gru = Generator(enc_char2id_path, dec_char2id_path, model_path, wordlib_path, device, need_scr, model_class, bidirectional, rnn_type)\n",
    "# LSTM\n",
    "model_path = 'ckpt/LSTM.pt'\n",
    "rnn_type = 'LSTM'\n",
    "lstm = Generator(enc_char2id_path, dec_char2id_path, model_path, wordlib_path, device, need_scr, model_class, bidirectional, rnn_type)\n",
    "# BiLSTM\n",
    "model_path = 'ckpt/BiLSTM.pt'\n",
    "rnn_type = 'LSTM'\n",
    "bidirectional = True\n",
    "bilstm = Generator(enc_char2id_path, dec_char2id_path, model_path, wordlib_path, device, need_scr, model_class, bidirectional, rnn_type)\n",
    "# attention\n",
    "model_class = Seq2SeqAttn\n",
    "need_scr = False\n",
    "model_path = 'ckpt/attention.pt'\n",
    "rnn_type = None\n",
    "attention = Generator(enc_char2id_path, dec_char2id_path, model_path, wordlib_path, device, need_scr, model_class, bidirectional, rnn_type)\n",
    "# attention_s\n",
    "model_class = Seq2SeqAttn\n",
    "need_scr = True\n",
    "model_path = 'ckpt/attention_s.pt'\n",
    "rnn_type = None\n",
    "attention_s = Generator(enc_char2id_path, dec_char2id_path, model_path, wordlib_path, device, need_scr, model_class, bidirectional, rnn_type)"
   ]
  },
  {
   "cell_type": "code",
   "execution_count": 2,
   "metadata": {},
   "outputs": [
    {
     "data": {
      "text/plain": [
       "{'采分点': ['(F)文笔朴实，气势连贯，文风格外朴实老练'],\n",
       " '扣分点': ['(R)笔力欠缺，内容不甚充实，把握不甚准确',\n",
       "  '(C)语句<unk>嗦重复',\n",
       "  '(L)抒情勉强，文章繁冗，提法有点不妥',\n",
       "  '(L)论述不充分，道理不太简明，意境不甚高远']}"
      ]
     },
     "execution_count": 2,
     "metadata": {},
     "output_type": "execute_result"
    }
   ],
   "source": [
    "txt, scr = raw[0]\n",
    "attention_s.generate(txt, scr)[1]"
   ]
  },
  {
   "cell_type": "code",
   "execution_count": 3,
   "metadata": {},
   "outputs": [
    {
     "name": "stderr",
     "output_type": "stream",
     "text": [
      "100%|██████████| 20/20 [00:11<00:00,  1.82it/s]\n"
     ]
    }
   ],
   "source": [
    "res = []\n",
    "i = 1\n",
    "for txt, scr in tqdm(raw):\n",
    "    res.append({\n",
    "        'id': i,\n",
    "        'essay': txt,\n",
    "        'RNN': rnn.generate(txt, scr)[1],\n",
    "        'GRU': gru.generate(txt, scr)[1],\n",
    "        'LSTM': lstm.generate(txt, scr)[1],\n",
    "        'BiLSTM': bilstm.generate(txt, scr)[1],\n",
    "        'our model(-S)': attention.generate(txt, scr)[1],\n",
    "        'our model(+S)': attention_s.generate(txt, scr)[1]\n",
    "    })\n",
    "    i += 1"
   ]
  },
  {
   "cell_type": "code",
   "execution_count": 4,
   "metadata": {},
   "outputs": [],
   "source": [
    "with open('data/res.json', 'w', encoding='utf8') as f:\n",
    "    json.dump(res, f, ensure_ascii=False, indent=4)"
   ]
  },
  {
   "cell_type": "code",
   "execution_count": 11,
   "metadata": {},
   "outputs": [
    {
     "name": "stdout",
     "output_type": "stream",
     "text": [
      "id：\n",
      "6\n",
      "essay：\n",
      "划船比赛大家应该都看过吧，但是你有看过乒乓球划船比赛吗？应该很少看到吧，今天我就看到了一场非常激烈的划船比赛。\n",
      "上课了，同学们飞快地跑到教室里坐好，等待老师发号施令，这时只见吴老师拿几个杯子放在讲台上说：中间这一组第一排的同学把书收下去。说话间，吴老师便把杯子放到桌子上，把水倒在里面。好，现在我们开始选人上来比赛。老师讲道。比赛选手选好了，我是裁判员，同学们正在做准备工作，有的同学在指导他们办法，有时同学在那练习，还有的同学在那推推打打。而我则在那儿为他们加水，做服务。\n",
      "比赛开始了，一局的同学们开始比赛，第一局是对战赛，第一位同学是唐俊峰，唐俊峰肥的挺可爱的，他弯着腰，屁股一翘，嘟起小嘴巴，用力一吹，水花四溅，乒乓球飞到天空，掉到另一水杯里，他再用力一吹，乒乓球好像不愿意离开小水屋，只是水在那儿晃动，唐俊峰火昌三丈了，用上吃奶的劲一吹，乒乓球跳了出来，滚到地上，我便把乒乓球捡起来放到原来掉下来的地方，唐俊峰准备再吹时，只听对方组一片欢呼声，我们组已经赢了。\n",
      "这节课非常的有趣，我从来没有玩过这种游戏，我非常喜欢，以后有机会，一定再来玩。\n",
      "RNN：\n",
      "采分点：\n",
      "(R)诉述详细，描述分外具体\n",
      "(C)表达清楚，结构略微不太明朗\n",
      "(F)作文得当，描述十分真实\n",
      "扣分点：\n",
      "(L)描写薄弱含糊\n",
      "(L)意境不够悠远\n",
      "GRU：\n",
      "采分点：\n",
      "(R)表达丰富，描写尤为精准逼真\n",
      "(C)特点突出，言语简洁，感情极为突出\n",
      "(F)描述统一，描写有序，风格有点不统一\n",
      "扣分点：\n",
      "(L)形式呆板，新意一般，写法有些陈旧\n",
      "(L)论据不够充分，水平不太高，道理不太简明\n",
      "LSTM：\n",
      "采分点：\n",
      "(R)语言准确，文章繁冗，文章不甚真实\n",
      "(C)规则简洁，思路尤其曲折，文字尤为精准精当\n",
      "(F)书写规范，条理欠佳，内容不太深刻\n",
      "扣分点：\n",
      "(L)文章繁冗，描写不甚充分，表达不太充分\n",
      "(L)情怀散漫，感受有些不深刻\n",
      "BiLSTM：\n",
      "采分点：\n",
      "(R)形容准确，文章分外充实具体\n",
      "(C)态度鲜明，切入点巧妙，文笔极其独到，语言非常新鲜\n",
      "(F)笔法老练，语言连贯，表述熟练直白熟练\n",
      "扣分点：\n",
      "(L)形式呆板，新意一般，描写有些冗杂平淡\n",
      "(L)思想不甚深刻，道理不甚简明，论据不够充分\n",
      "our model(-S)：\n",
      "采分点：\n",
      "(R)描写精准，描述极其入神，文章极其精炼，描述较为细腻\n",
      "(C)作文清晰，结构紧密，文章清晰严谨\n",
      "(F)层次自然，文章尤其流畅，文章极其充实\n",
      "扣分点：\n",
      "(L)描写薄弱，意思不甚连贯，语势不甚连贯\n",
      "(L)语义不甚深刻，蕴意不甚悠长，道理些微简明\n",
      "our model(+S)：\n",
      "采分点：\n",
      "(R)手法细腻，事例典型，描写精准逼真\n",
      "(C)事例清晰，联系紧密，文法严谨\n",
      "(F)运用自然娴熟，语言通顺直白，文风格外朴实老练\n",
      "扣分点：\n",
      "(L)新意一般，写法陈旧，形式些微呆板\n",
      "(L)言语不深刻，道理不甚简明，蕴意略显不太悠长\n"
     ]
    }
   ],
   "source": [
    "with open('data/res.json', 'r') as f:\n",
    "    res = json.load(f)[5]\n",
    "def show_res(res):\n",
    "    if type(res) in [str, int]:\n",
    "        print(res)\n",
    "    elif type(res) == list:\n",
    "        for x in res:\n",
    "            print(x)\n",
    "    else:\n",
    "        for key in res:\n",
    "            print(key + '：')\n",
    "            show_res(res[key])\n",
    "show_res(res)"
   ]
  },
  {
   "cell_type": "code",
   "execution_count": null,
   "metadata": {},
   "outputs": [],
   "source": []
  }
 ],
 "metadata": {
  "interpreter": {
   "hash": "5ed10f5784f12228747e42e26f514e267e76a9e7690185e5f867398dba80b904"
  },
  "kernelspec": {
   "display_name": "Python 3.8.8 ('base')",
   "language": "python",
   "name": "python3"
  },
  "language_info": {
   "codemirror_mode": {
    "name": "ipython",
    "version": 3
   },
   "file_extension": ".py",
   "mimetype": "text/x-python",
   "name": "python",
   "nbconvert_exporter": "python",
   "pygments_lexer": "ipython3",
   "version": "3.8.8"
  },
  "orig_nbformat": 4
 },
 "nbformat": 4,
 "nbformat_minor": 2
}
